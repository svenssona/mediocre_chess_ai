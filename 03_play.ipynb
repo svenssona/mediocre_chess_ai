{
 "cells": [
  {
   "cell_type": "code",
   "execution_count": null,
   "id": "99a06803",
   "metadata": {},
   "outputs": [],
   "source": [
    "# default_exp play"
   ]
  },
  {
   "cell_type": "markdown",
   "id": "83d3449e",
   "metadata": {},
   "source": [
    "# Playing Chess \n",
    "> Play a chess game with our Neural Network"
   ]
  },
  {
   "cell_type": "code",
   "execution_count": null,
   "id": "ea0ae6a3",
   "metadata": {},
   "outputs": [],
   "source": [
    "#hide\n",
    "from nbdev.showdoc import *\n",
    "%load_ext autoreload\n",
    "%autoreload 2"
   ]
  },
  {
   "cell_type": "code",
   "execution_count": null,
   "id": "4663a5ac",
   "metadata": {},
   "outputs": [],
   "source": [
    "#export \n",
    "from mediocre_chess_ai.train import Net\n",
    "import torch\n",
    "\n",
    "\n",
    "class Valuator(object):\n",
    "    \"\"\"Valuates a given board state using a trained neural network\"\"\"\n",
    "    def __init__(self):\n",
    "        self.model = Net()\n",
    "        self.param = torch.load(\"nets/value.pth\", map_location=lambda storage, loc: storage)\n",
    "        self.model.load_state_dict(self.param)\n",
    "    \n",
    "    def __call__(self, s):\n",
    "        brd = s.serialize()[None]\n",
    "        output = self.model(torch.tensor(brd).float())\n",
    "        return float(output.data)"
   ]
  },
  {
   "cell_type": "code",
   "execution_count": null,
   "id": "094f1611",
   "metadata": {},
   "outputs": [],
   "source": [
    "#export\n",
    "def explore_leaves(s, v):\n",
    "    ret = []\n",
    "    for mv in s.edges():\n",
    "        s.board.push(mv)\n",
    "        ret.append((v(s), mv))\n",
    "        s.board.pop()\n",
    "    return ret\n",
    "\n",
    "def computer_move():\n",
    "    moves = sorted(explore_leaves(s, v), key=lambda x: x[0], reverse=s.board.turn)\n",
    "    print(\"Computer moves:\", moves[0])\n",
    "    s.board.push(moves[0][1])\n",
    "\n",
    "def move():\n",
    "    if not s.board.is_game_over():\n",
    "        human_move = input(\"Next move: \")\n",
    "    if chess.Move.from_uci(human_move) in s.board.legal_moves:\n",
    "        print(\"Human moves:\", human_move)\n",
    "        s.board.push_san(human_move)\n",
    "        computer_move()\n",
    "    else: \n",
    "        print(\"Illegal Move, try again.\")"
   ]
  },
  {
   "cell_type": "markdown",
   "id": "f9c4e00d",
   "metadata": {},
   "source": [
    "## Self Play"
   ]
  },
  {
   "cell_type": "code",
   "execution_count": null,
   "id": "804242f0",
   "metadata": {},
   "outputs": [],
   "source": [
    "import chess.svg\n",
    "from IPython.display import display, Image\n",
    "from mediocre_chess_ai.state import State\n",
    "\n",
    "# Chess board and \"engine\".\n",
    "s = State()\n",
    "v = Valuator()\n",
    "# Plays chess with it self.\n",
    "while not s.board.is_game_over():\n",
    "    display(s.board)\n",
    "    computer_move()\n",
    "print(s.board.result())"
   ]
  },
  {
   "cell_type": "markdown",
   "id": "bd6e76c9",
   "metadata": {},
   "source": [
    "## Human Play vs CPU"
   ]
  },
  {
   "cell_type": "code",
   "execution_count": null,
   "id": "1f4e067f",
   "metadata": {},
   "outputs": [],
   "source": [
    "\"\"\"Has to be loaded as this -> because of nbdev. \n",
    "\n",
    "import chess.svg\n",
    "from IPython.display import display, Image\n",
    "from mediocre_chess_ai.state import State\n",
    "\n",
    "\n",
    "\n",
    "# Chess board and \"engine\".\n",
    "s = State()\n",
    "v = Valuator()\n",
    "\n",
    "# You play chess with the AI.\n",
    "quit = False\n",
    "while not s.board.is_game_over() and not quit:\n",
    "    try:\n",
    "        display(s.board)\n",
    "        move()\n",
    "    except KeyboardInterrupt:\n",
    "        print(\"User quit\")\n",
    "        quit = True\n",
    "\"\"\""
   ]
  },
  {
   "cell_type": "code",
   "execution_count": null,
   "id": "56f77860",
   "metadata": {},
   "outputs": [],
   "source": [
    "#hide\n",
    "from nbdev.export import notebook2script; notebook2script()"
   ]
  },
  {
   "cell_type": "code",
   "execution_count": null,
   "id": "7d64b806",
   "metadata": {},
   "outputs": [],
   "source": []
  }
 ],
 "metadata": {
  "kernelspec": {
   "display_name": "Python 3",
   "language": "python",
   "name": "python3"
  }
 },
 "nbformat": 4,
 "nbformat_minor": 5
}

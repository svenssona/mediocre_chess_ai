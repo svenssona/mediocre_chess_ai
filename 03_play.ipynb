{
 "cells": [
  {
   "cell_type": "code",
   "execution_count": null,
   "id": "99a06803",
   "metadata": {},
   "outputs": [],
   "source": [
    "# default_exp play"
   ]
  },
  {
   "cell_type": "markdown",
   "id": "83d3449e",
   "metadata": {},
   "source": [
    "# Playing Chess \n",
    "> Play a chess game with our Neural Network"
   ]
  },
  {
   "cell_type": "code",
   "execution_count": null,
   "id": "ea0ae6a3",
   "metadata": {},
   "outputs": [],
   "source": [
    "#hide\n",
    "from nbdev.showdoc import *\n",
    "%load_ext autoreload\n",
    "%autoreload 2"
   ]
  },
  {
   "cell_type": "code",
   "execution_count": null,
   "id": "4663a5ac",
   "metadata": {},
   "outputs": [],
   "source": [
    "#exports\n",
    "from mediocre_chess_ai.train import Net\n",
    "import torch\n",
    "\n",
    "\n",
    "class Valuator(object):\n",
    "    \"\"\"Valuates a given board state using a trained neural network\"\"\"\n",
    "    def __init__(self):\n",
    "        self.model = Net()\n",
    "        self.param = torch.load(\"nets/value.pth\", map_location=lambda storage, loc: storage)\n",
    "        self.model.load_state_dict(self.param)\n",
    "    \n",
    "    def __call__(self, s):\n",
    "        brd = s.serialize()[None]\n",
    "        output = self.model(torch.tensor(brd).float())\n",
    "        return float(output.data)"
   ]
  },
  {
   "cell_type": "code",
   "execution_count": null,
   "id": "094f1611",
   "metadata": {},
   "outputs": [],
   "source": [
    "#exports\n",
    "def explore_leaves(s, v):\n",
    "    ret = []\n",
    "    for mv in s.edges():\n",
    "        s.board.push(mv)\n",
    "        ret.append((v(s), mv))\n",
    "        s.board.pop()\n",
    "    return ret\n",
    "\n",
    "def computer_move():\n",
    "    moves = sorted(explore_leaves(s, v), key=lambda x: x[0], reverse=s.board.turn)\n",
    "    print(\"Computer moves:\", moves[0])\n",
    "    s.board.push(moves[0][1])\n",
    "\n",
    "def move():\n",
    "    if not s.board.is_game_over():\n",
    "        human_move = input(\"Next move: \")\n",
    "    if chess.Move.from_uci(human_move) in s.board.legal_moves:\n",
    "        print(\"Human moves:\", human_move)\n",
    "        s.board.push_san(human_move)\n",
    "        computer_move()\n",
    "    else: \n",
    "        print(\"Illegal Move, try again.\")"
   ]
  },
  {
   "cell_type": "markdown",
   "id": "f9c4e00d",
   "metadata": {},
   "source": [
    "## Self Play"
   ]
  },
  {
   "cell_type": "code",
   "execution_count": null,
   "id": "804242f0",
   "metadata": {},
   "outputs": [
    {
     "ename": "NameError",
     "evalue": "name 'Valuator' is not defined",
     "output_type": "error",
     "traceback": [
      "\u001b[0;31m---------------------------------------------------------------------------\u001b[0m",
      "\u001b[0;31mNameError\u001b[0m                                 Traceback (most recent call last)",
      "\u001b[0;32m<ipython-input-1-6686e926e057>\u001b[0m in \u001b[0;36m<module>\u001b[0;34m\u001b[0m\n\u001b[1;32m      6\u001b[0m \u001b[0;31m# Chess board and \"engine\".\u001b[0m\u001b[0;34m\u001b[0m\u001b[0;34m\u001b[0m\u001b[0;34m\u001b[0m\u001b[0m\n\u001b[1;32m      7\u001b[0m \u001b[0ms\u001b[0m \u001b[0;34m=\u001b[0m \u001b[0mState\u001b[0m\u001b[0;34m(\u001b[0m\u001b[0;34m)\u001b[0m\u001b[0;34m\u001b[0m\u001b[0;34m\u001b[0m\u001b[0m\n\u001b[0;32m----> 8\u001b[0;31m \u001b[0mv\u001b[0m \u001b[0;34m=\u001b[0m \u001b[0mValuator\u001b[0m\u001b[0;34m(\u001b[0m\u001b[0;34m)\u001b[0m\u001b[0;34m\u001b[0m\u001b[0;34m\u001b[0m\u001b[0m\n\u001b[0m\u001b[1;32m      9\u001b[0m \u001b[0;31m# Plays chess with it self.\u001b[0m\u001b[0;34m\u001b[0m\u001b[0;34m\u001b[0m\u001b[0;34m\u001b[0m\u001b[0m\n\u001b[1;32m     10\u001b[0m \u001b[0;32mwhile\u001b[0m \u001b[0;32mnot\u001b[0m \u001b[0ms\u001b[0m\u001b[0;34m.\u001b[0m\u001b[0mboard\u001b[0m\u001b[0;34m.\u001b[0m\u001b[0mis_game_over\u001b[0m\u001b[0;34m(\u001b[0m\u001b[0;34m)\u001b[0m\u001b[0;34m:\u001b[0m\u001b[0;34m\u001b[0m\u001b[0;34m\u001b[0m\u001b[0m\n",
      "\u001b[0;31mNameError\u001b[0m: name 'Valuator' is not defined"
     ]
    }
   ],
   "source": [
    "#hide\n",
    "import chess.svg\n",
    "from IPython.display import display, Image\n",
    "from mediocre_chess_ai.state import State\n",
    "\n",
    "# Chess board and \"engine\".\n",
    "s = State()\n",
    "v = Valuator()\n",
    "# Plays chess with it self.\n",
    "while not s.board.is_game_over():\n",
    "    display(s.board)\n",
    "    computer_move()\n",
    "print(s.board.result())"
   ]
  },
  {
   "cell_type": "markdown",
   "id": "bd6e76c9",
   "metadata": {},
   "source": [
    "## Human Play vs CPU"
   ]
  },
  {
   "cell_type": "code",
   "execution_count": null,
   "id": "1f4e067f",
   "metadata": {},
   "outputs": [
    {
     "data": {
      "text/plain": [
       "'Has to be loaded as this -> because of nbdev. \\n\\nimport chess.svg\\nfrom IPython.display import display, Image\\nfrom mediocre_chess_ai.state import State\\n\\n\\n\\n# Chess board and \"engine\".\\ns = State()\\nv = Valuator()\\n\\n# You play chess with the AI.\\nquit = False\\nwhile not s.board.is_game_over() and not quit:\\n    try:\\n        display(s.board)\\n        move()\\n    except KeyboardInterrupt:\\n        print(\"User quit\")\\n        quit = True\\n'"
      ]
     },
     "execution_count": null,
     "metadata": {},
     "output_type": "execute_result"
    }
   ],
   "source": [
    "#hide\n",
    "\"\"\"Has to be loaded as this -> because of nbdev. \n",
    "\n",
    "import chess.svg\n",
    "from IPython.display import display, Image\n",
    "from mediocre_chess_ai.state import State\n",
    "\n",
    "\n",
    "\n",
    "# Chess board and \"engine\".\n",
    "s = State()\n",
    "v = Valuator()\n",
    "\n",
    "# You play chess with the AI.\n",
    "quit = False\n",
    "while not s.board.is_game_over() and not quit:\n",
    "    try:\n",
    "        display(s.board)\n",
    "        move()\n",
    "    except KeyboardInterrupt:\n",
    "        print(\"User quit\")\n",
    "        quit = True\n",
    "\"\"\""
   ]
  },
  {
   "cell_type": "code",
   "execution_count": null,
   "id": "56f77860",
   "metadata": {},
   "outputs": [
    {
     "name": "stdout",
     "output_type": "stream",
     "text": [
      "Converted 00_state.ipynb.\n",
      "Converted 01_generate_training_set.ipynb.\n",
      "Converted 02_train.ipynb.\n",
      "Converted 03_play.ipynb.\n",
      "Converted index.ipynb.\n"
     ]
    }
   ],
   "source": [
    "#hide\n",
    "from nbdev.export import notebook2script; notebook2script()"
   ]
  },
  {
   "cell_type": "code",
   "execution_count": null,
   "id": "7d64b806",
   "metadata": {},
   "outputs": [],
   "source": []
  }
 ],
 "metadata": {
  "kernelspec": {
   "display_name": "Python 3",
   "language": "python",
   "name": "python3"
  }
 },
 "nbformat": 4,
 "nbformat_minor": 5
}

{
 "cells": [
  {
   "cell_type": "code",
   "execution_count": null,
   "metadata": {},
   "outputs": [],
   "source": [
    "# default_exp state"
   ]
  },
  {
   "cell_type": "markdown",
   "metadata": {},
   "source": [
    "# State\n",
    "\n",
    "> Handles the states on a chess board."
   ]
  },
  {
   "cell_type": "code",
   "execution_count": null,
   "metadata": {},
   "outputs": [],
   "source": [
    "#hide\n",
    "from nbdev.showdoc import *\n",
    "%load_ext autoreload\n",
    "%autoreload 2"
   ]
  },
  {
   "cell_type": "code",
   "execution_count": null,
   "metadata": {},
   "outputs": [],
   "source": [
    "#export\n",
    "import chess\n",
    "import numpy as np\n",
    "\n",
    "\n",
    "class State(object):\n",
    "    def __init__(self, board=None):\n",
    "        if board is None:\n",
    "            self.board = chess.Board()\n",
    "        else:\n",
    "            self.board = board\n",
    "\n",
    "    def serialize(self):\n",
    "        \"numericalize current board states\"\n",
    "        assert self.board.is_valid()\n",
    "        \n",
    "        # Init board state.\n",
    "        bstate = np.zeros(64, np.uint8)\n",
    "        for i in range(64):\n",
    "            pp = self.board.piece_at(i)\n",
    "            if pp is not None:\n",
    "                # Assigns a value representing the pieces (capitalized letters are white pieces).\n",
    "                bstate[i] = {\"P\": 1, \"N\": 2, \"B\": 3, \"R\": 4, \"Q\": 5, \"K\": 6, \\\n",
    "                             \"p\": 9, \"n\": 10, \"b\": 11, \"r\": 12, \"q\": 13, \"k\": 14}[pp.symbol()] # lowercase black\n",
    "                \n",
    "        # Special board states 7,8 and 15.\n",
    "        # Determine if we can castle on white.\n",
    "        if self.board.has_queenside_castling_rights(chess.WHITE):\n",
    "            assert bstate[0] == 4\n",
    "            bstate[0] = 7\n",
    "        if self.board.has_kingside_castling_rights(chess.WHITE):\n",
    "            assert bstate[7] == 4\n",
    "            bstate[7] = 7 \n",
    "            \n",
    "        # Determine if we can castle on black.\n",
    "        if self.board.has_queenside_castling_rights(chess.BLACK):\n",
    "            assert bstate[56] == 12\n",
    "            bstate[56] = 15\n",
    "        if self.board.has_kingside_castling_rights(chess.BLACK):\n",
    "            assert bstate[63] == 12\n",
    "            bstate[63] = 15 \n",
    "            \n",
    "        # Gives the potential en passant square.\n",
    "        if self.board.ep_square is not None:\n",
    "            assert bstate[self.board.ep_square] == 0\n",
    "            bstate[self.board.ep_square] = 8    \n",
    "        \n",
    "        # Reshapes the board state to a matrix.\n",
    "        bstate = bstate.reshape(8,8)\n",
    "        \n",
    "        # 320 bits according to readme.\n",
    "        state = np.zeros((5,8,8), np.uint8)\n",
    "        \n",
    "        # 0-3 to binary.\n",
    "        state[0] = (bstate>>3)&1\n",
    "        state[1] = (bstate>>2)&1\n",
    "        state[2] = (bstate>>1)&1\n",
    "        state[3] = (bstate>>0)&1\n",
    "        \n",
    "        # 4th column is who's turn it is.\n",
    "        state[4] = (self.board.turn*1.0)\n",
    "        \n",
    "        return state\n",
    "\n",
    "    def edges(self):\n",
    "        return list(self.board.legal_moves)"
   ]
  },
  {
   "cell_type": "code",
   "execution_count": null,
   "metadata": {},
   "outputs": [
    {
     "name": "stdout",
     "output_type": "stream",
     "text": [
      "[Move.from_uci('g1h3'), Move.from_uci('g1f3'), Move.from_uci('b1c3'), Move.from_uci('b1a3'), Move.from_uci('h2h3'), Move.from_uci('g2g3'), Move.from_uci('f2f3'), Move.from_uci('e2e3'), Move.from_uci('d2d3'), Move.from_uci('c2c3'), Move.from_uci('b2b3'), Move.from_uci('a2a3'), Move.from_uci('h2h4'), Move.from_uci('g2g4'), Move.from_uci('f2f4'), Move.from_uci('e2e4'), Move.from_uci('d2d4'), Move.from_uci('c2c4'), Move.from_uci('b2b4'), Move.from_uci('a2a4')]\n"
     ]
    }
   ],
   "source": [
    "s = State()\n",
    "print(s.edges())"
   ]
  },
  {
   "cell_type": "code",
   "execution_count": null,
   "metadata": {},
   "outputs": [
    {
     "name": "stdout",
     "output_type": "stream",
     "text": [
      "Converted 00_state.ipynb.\n",
      "Converted 01_generate_training_set.ipynb.\n",
      "Converted 02_train.ipynb.\n",
      "Converted 03_play.ipynb.\n",
      "Converted index.ipynb.\n"
     ]
    }
   ],
   "source": [
    "#hide\n",
    "from nbdev.export import notebook2script; notebook2script()"
   ]
  },
  {
   "cell_type": "code",
   "execution_count": null,
   "metadata": {},
   "outputs": [],
   "source": []
  }
 ],
 "metadata": {
  "kernelspec": {
   "display_name": "Python 3",
   "language": "python",
   "name": "python3"
  }
 },
 "nbformat": 4,
 "nbformat_minor": 2
}

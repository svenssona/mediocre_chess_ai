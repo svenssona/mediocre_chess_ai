{
 "cells": [
  {
   "cell_type": "code",
   "execution_count": null,
   "id": "0aa7890e",
   "metadata": {},
   "outputs": [],
   "source": [
    "# default_exp generate_training_set"
   ]
  },
  {
   "cell_type": "markdown",
   "id": "99f8a4b6",
   "metadata": {},
   "source": [
    "# Generate Training Set\n",
    "> Reads a game from a file opened in text mode."
   ]
  },
  {
   "cell_type": "code",
   "execution_count": null,
   "id": "fadee27f",
   "metadata": {},
   "outputs": [],
   "source": [
    "#hide\n",
    "from nbdev.showdoc import *\n",
    "%load_ext autoreload\n",
    "%autoreload 2"
   ]
  },
  {
   "cell_type": "code",
   "execution_count": null,
   "id": "2a74cba6",
   "metadata": {},
   "outputs": [],
   "source": [
    "#exports\n",
    "import os\n",
    "import chess.pgn\n",
    "import numpy as np\n",
    "from mediocre_chess_ai.state import State\n",
    "\n",
    "\n",
    "def get_dataset(num_samples):\n",
    "    # Initialize variables for storing board states and results.\n",
    "    X,Y = [], []\n",
    "    gn = 0\n",
    "    \n",
    "    # Value from each match depending on outcome.\n",
    "    values = {'1/2-1/2': 0, '0-1': -1, '1-0': 1}\n",
    "    \n",
    "    for fn in os.listdir(\"data\"):\n",
    "        # pgn files in this data folder\n",
    "        pgn = open(os.path.join(\"data\", fn))\n",
    "        while 1:\n",
    "            game = chess.pgn.read_game(pgn)\n",
    "            if game is None:\n",
    "                break  \n",
    "            # Gets the result from the game.\n",
    "            res = game.headers[\"Result\"]\n",
    "            if res not in values: \n",
    "                continue   \n",
    "            value = values[res]\n",
    "            \n",
    "            # Plays the next move .\n",
    "            board = game.board()\n",
    "            for i,move in enumerate(game.mainline_moves()):\n",
    "                board.push(move)\n",
    "                ser = State(board).serialize()\n",
    "                X.append(ser)\n",
    "                Y.append(value)\n",
    "            print(\"parsing game %d, got %d examples\" % (gn, len(X)))\n",
    "            \n",
    "            # Cancel if we got enough examples.\n",
    "            if num_samples is not None and len(X) > num_samples:\n",
    "                return X,Y\n",
    "            gn +=1\n",
    "    # Convert to numpy arrays\n",
    "    X = np.array(X)\n",
    "    Y = np.array(Y)\n",
    "    return X,Y"
   ]
  },
  {
   "cell_type": "code",
   "execution_count": null,
   "id": "6d6b11e3",
   "metadata": {},
   "outputs": [
    {
     "name": "stdout",
     "output_type": "stream",
     "text": [
      "parsing game 0, got 45 examples\n",
      "parsing game 1, got 100 examples\n",
      "parsing game 2, got 147 examples\n",
      "parsing game 3, got 193 examples\n",
      "parsing game 4, got 294 examples\n",
      "parsing game 5, got 430 examples\n",
      "parsing game 6, got 574 examples\n",
      "parsing game 7, got 780 examples\n",
      "parsing game 8, got 917 examples\n",
      "parsing game 9, got 987 examples\n",
      "parsing game 10, got 1140 examples\n"
     ]
    }
   ],
   "source": [
    "#hide\n",
    "X, Y = get_dataset(1e3)\n",
    "np.savez(\"processed/dataset_1k.npz\", X, Y)"
   ]
  },
  {
   "cell_type": "code",
   "execution_count": null,
   "id": "6aa66d50",
   "metadata": {},
   "outputs": [
    {
     "name": "stdout",
     "output_type": "stream",
     "text": [
      "Converted 00_state.ipynb.\n",
      "Converted 01_generate_training_set.ipynb.\n",
      "Converted 02_train.ipynb.\n",
      "Converted 03_play.ipynb.\n",
      "Converted index.ipynb.\n"
     ]
    }
   ],
   "source": [
    "#hide\n",
    "from nbdev.export import notebook2script; notebook2script()"
   ]
  },
  {
   "cell_type": "code",
   "execution_count": null,
   "id": "5837a2af",
   "metadata": {},
   "outputs": [],
   "source": []
  }
 ],
 "metadata": {
  "kernelspec": {
   "display_name": "Python 3",
   "language": "python",
   "name": "python3"
  }
 },
 "nbformat": 4,
 "nbformat_minor": 5
}
